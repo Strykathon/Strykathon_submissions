version https://git-lfs.github.com/spec/v1
oid sha256:331354db4f40eafa8062b35a5607c85285844f4414801745277dee72eb717aa7
size 1041102
