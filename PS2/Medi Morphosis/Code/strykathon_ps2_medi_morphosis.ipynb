version https://git-lfs.github.com/spec/v1
oid sha256:bfad4a43635a1a2e86e1d677496da8dfcefa805468077e8ba72db7c62e359b63
size 398610
