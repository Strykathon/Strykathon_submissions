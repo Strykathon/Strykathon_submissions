version https://git-lfs.github.com/spec/v1
oid sha256:95392fcff9631713af5ab97a61a79c42824c281ef11a25146b24a23a4b7de120
size 8888
