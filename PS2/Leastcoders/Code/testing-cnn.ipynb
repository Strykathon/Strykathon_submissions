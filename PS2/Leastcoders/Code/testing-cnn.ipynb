version https://git-lfs.github.com/spec/v1
oid sha256:8b50d2e70555b35250de4e7792a3107e09e3ba7a1a3b0b984f0d64e086d6711a
size 208181
