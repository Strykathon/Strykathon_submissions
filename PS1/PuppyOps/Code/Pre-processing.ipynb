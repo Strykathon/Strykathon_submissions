version https://git-lfs.github.com/spec/v1
oid sha256:d53b09b4adf0786cd96a46ae9adc26389d70a831c2f21f976af32bf0eda7200b
size 5208
