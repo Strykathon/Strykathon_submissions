version https://git-lfs.github.com/spec/v1
oid sha256:ba5da315e409eab07cac9104cae0713d6d18e35a364b31e5d28fc169ff528b1d
size 90792
