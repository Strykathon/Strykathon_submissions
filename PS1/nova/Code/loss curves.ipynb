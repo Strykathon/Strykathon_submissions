version https://git-lfs.github.com/spec/v1
oid sha256:e1103d53042b772ddc50d51cb524be432838c94c8aa0387ec3789cacd387b523
size 2168508
