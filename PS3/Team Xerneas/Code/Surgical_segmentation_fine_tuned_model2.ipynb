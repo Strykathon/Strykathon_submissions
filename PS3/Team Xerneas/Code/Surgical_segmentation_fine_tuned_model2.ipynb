version https://git-lfs.github.com/spec/v1
oid sha256:d49d4ac3b925173037222f2382c53890b5e03066344c84b31cdd5b6ca4cf3e05
size 3588753
