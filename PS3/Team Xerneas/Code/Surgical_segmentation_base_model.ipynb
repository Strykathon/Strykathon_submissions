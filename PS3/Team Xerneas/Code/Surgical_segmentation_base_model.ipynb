version https://git-lfs.github.com/spec/v1
oid sha256:b8396ff6ad07d9ab88fc1a6e7f4f5dfdbd761efac08a8474ae5f42d2423a59cd
size 2322917
