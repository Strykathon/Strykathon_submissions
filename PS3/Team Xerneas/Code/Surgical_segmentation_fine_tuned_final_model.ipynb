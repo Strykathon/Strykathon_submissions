version https://git-lfs.github.com/spec/v1
oid sha256:2bbc79f12fed715ec60914830fe140f11aa1eda91016dd9c7a3aa78fb2192bcd
size 3693233
