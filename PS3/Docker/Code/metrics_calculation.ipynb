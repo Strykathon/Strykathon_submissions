version https://git-lfs.github.com/spec/v1
oid sha256:f3f610dc95867d0e1e31f32c5c3f9540ede2c770984a8cde246715a929db7896
size 1822010
