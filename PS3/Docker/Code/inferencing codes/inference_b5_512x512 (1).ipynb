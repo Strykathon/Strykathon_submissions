version https://git-lfs.github.com/spec/v1
oid sha256:3c990e7392cf2ec1cca43b132bdaa1f9008cb2d1f37f5e3ad36663182154141c
size 10962
