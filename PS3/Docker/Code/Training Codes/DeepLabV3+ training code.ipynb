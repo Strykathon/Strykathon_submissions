version https://git-lfs.github.com/spec/v1
oid sha256:58ce0f8f92dcb9e6e1965d19c6c73233992f9df4499b2351bc233f2be2317798
size 356469
