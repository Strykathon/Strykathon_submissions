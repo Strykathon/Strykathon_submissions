version https://git-lfs.github.com/spec/v1
oid sha256:186e19867579ca24424d62b93cbbd870b0d3b6a734e5f43136b31b6398bce451
size 108590
