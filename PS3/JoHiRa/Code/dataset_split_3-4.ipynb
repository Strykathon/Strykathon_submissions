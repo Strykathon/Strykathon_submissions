version https://git-lfs.github.com/spec/v1
oid sha256:eff7b472beade631f242228a166de79cc476973393d0776eca876fd1ec939f4e
size 74408
