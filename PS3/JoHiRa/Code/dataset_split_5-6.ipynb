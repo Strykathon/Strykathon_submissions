version https://git-lfs.github.com/spec/v1
oid sha256:e58a093a376e4b89d5338bf0ba6db3fe781fc93471f287ffe80bdfc07b8e330f
size 74408
