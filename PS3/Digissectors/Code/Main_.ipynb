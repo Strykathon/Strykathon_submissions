version https://git-lfs.github.com/spec/v1
oid sha256:86af843dad2e6b53decfc5424c9e9c31c2bc3525c97bf452e02597f3f7036488
size 39362
