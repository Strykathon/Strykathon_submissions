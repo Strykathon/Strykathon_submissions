version https://git-lfs.github.com/spec/v1
oid sha256:71c08f30f37c441ac03a52f69726674984bdb9e5b330f65ab19bcb155f6f4d8f
size 1013606
